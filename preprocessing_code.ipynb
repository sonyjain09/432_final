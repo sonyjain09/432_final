{
 "cells": [
  {
   "cell_type": "code",
   "execution_count": 11,
   "metadata": {},
   "outputs": [],
   "source": [
    "import pandas as pd \n",
    "from sklearn.preprocessing import QuantileTransformer\n",
    "import numpy as np\n",
    "\n",
    "\n",
    "train = pd.read_csv(\"/Users/neeyad/Desktop/432_final/train_features.csv\")\n",
    "test = pd.read_csv(\"/Users/neeyad/Desktop/432_final/train_features.csv\")\n",
    "\n",
    "# NEEYA TRANSFORMATION\n",
    "quantile_transformer = QuantileTransformer(output_distribution='normal', n_quantiles=1000, random_state=0)\n",
    "\n",
    "# Fit the transformer on the train data and transform both train and test 'MRELGE' columns\n",
    "train['MRELGE'] = quantile_transformer.fit_transform(train[['MRELGE']])\n",
    "test['MRELGE'] = quantile_transformer.transform(test[['MRELGE']])\n",
    "\n",
    "#SONY TRANSFORMATION\n",
    "min_positive = train['MOPLHOOG'].min()\n",
    "if min_positive <= 0:\n",
    "    shift_value = 1 - min_positive\n",
    "    train['MOPLHOOG'] += shift_value\n",
    "train['MOPLHOOG'] = np.log(train['MOPLHOOG'])\n",
    "\n",
    "min_positive = test['MOPLHOOG'].min()\n",
    "if min_positive <= 0:\n",
    "    shift_value = 1 - min_positive\n",
    "    test['MOPLHOOG'] += shift_value\n",
    "test['MOPLHOOG'] = np.log(test['MOPLHOOG'])\n",
    "\n",
    "# RAHUL TRANSFORMATION\n",
    "\n",
    "\n",
    "# Save the updated datasets to new CSV files\n",
    "train.to_csv('/Users/neeyad/Desktop/432_final/preproccessed_train_features.csv', index=False)\n",
    "test.to_csv('/Users/neeyad/Desktop/432_final/preproccessed_test_features.csv', index=False)\n"
   ]
  }
 ],
 "metadata": {
  "kernelspec": {
   "display_name": "Python 3.9.6 64-bit",
   "language": "python",
   "name": "python3"
  },
  "language_info": {
   "codemirror_mode": {
    "name": "ipython",
    "version": 3
   },
   "file_extension": ".py",
   "mimetype": "text/x-python",
   "name": "python",
   "nbconvert_exporter": "python",
   "pygments_lexer": "ipython3",
   "version": "3.9.6"
  },
  "orig_nbformat": 4,
  "vscode": {
   "interpreter": {
    "hash": "aee8b7b246df8f9039afb4144a1f6fd8d2ca17a180786b69acc140d282b71a49"
   }
  }
 },
 "nbformat": 4,
 "nbformat_minor": 2
}
